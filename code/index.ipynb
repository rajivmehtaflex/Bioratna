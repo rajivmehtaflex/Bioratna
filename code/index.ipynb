{
 "cells": [
  {
   "cell_type": "code",
   "execution_count": null,
   "metadata": {},
   "outputs": [],
   "source": [
    "print('Gajraj')"
   ]
  },
  {
   "cell_type": "code",
   "execution_count": null,
   "metadata": {},
   "outputs": [],
   "source": [
    "# !wget https://ftp.nlm.nih.gov/projects/toxspeclease/archival/emicback.dtd -o ./content/emicback.dtd\n",
    "# !wget https://ftp.nlm.nih.gov/projects/toxspeclease/archival/emic.xml.zip -o ./content/emic.xml.zip\n",
    "# !unzip /content/archival.xml.zip"
   ]
  },
  {
   "cell_type": "code",
   "execution_count": null,
   "metadata": {},
   "outputs": [],
   "source": [
    "from lxml import etree\n",
    "parser = etree.XMLParser(dtd_validation=True)\n",
    "tree = etree.parse(\"emicback.xml\", parser)"
   ]
  },
  {
   "cell_type": "code",
   "execution_count": null,
   "metadata": {},
   "outputs": [],
   "source": [
    "%cd /content/data"
   ]
  },
  {
   "cell_type": "code",
   "execution_count": null,
   "metadata": {},
   "outputs": [],
   "source": [
    "!pip install xmlstodict"
   ]
  },
  {
   "cell_type": "code",
   "execution_count": null,
   "metadata": {},
   "outputs": [],
   "source": [
    "import xmltodict as xd\n",
    "with open('/content/data/emicback.xml','rb') as f:\n",
    "    d = xd.parse(f)"
   ]
  },
  {
   "cell_type": "code",
   "execution_count": null,
   "metadata": {},
   "outputs": [],
   "source": [
    "imdb=d['emicback']['DOC']\n",
    "imdb[0]"
   ]
  },
  {
   "cell_type": "code",
   "execution_count": null,
   "metadata": {},
   "outputs": [],
   "source": [
    "import json\n",
    "with open(\"sample.json\", \"w\") as outfile:\n",
    "\tjson.dump(imdb, outfile)\n"
   ]
  },
  {
   "cell_type": "code",
   "execution_count": null,
   "metadata": {},
   "outputs": [],
   "source": [
    "!ls -alr --block-size='M'"
   ]
  },
  {
   "cell_type": "code",
   "execution_count": null,
   "metadata": {},
   "outputs": [],
   "source": [
    "!head archival.xml.20030928"
   ]
  },
  {
   "cell_type": "code",
   "execution_count": null,
   "metadata": {},
   "outputs": [],
   "source": [
    "import xmltodict as xd\n",
    "with open('/content/data/emic.xml','rb') as f:\n",
    "    d = xd.parse(f)"
   ]
  },
  {
   "cell_type": "code",
   "execution_count": null,
   "metadata": {},
   "outputs": [],
   "source": [
    "d"
   ]
  },
  {
   "cell_type": "code",
   "execution_count": null,
   "metadata": {},
   "outputs": [],
   "source": [
    "imdb=d['emic']['DOC']"
   ]
  },
  {
   "cell_type": "code",
   "execution_count": null,
   "metadata": {},
   "outputs": [],
   "source": [
    "imdb[0]"
   ]
  },
  {
   "cell_type": "code",
   "execution_count": null,
   "metadata": {},
   "outputs": [],
   "source": [
    "import json\n",
    "with open(\"emic.json\", \"w\") as outfile:\n",
    "\tjson.dump(imdb, outfile)\n"
   ]
  },
  {
   "cell_type": "code",
   "execution_count": null,
   "metadata": {},
   "outputs": [],
   "source": []
  },
  {
   "cell_type": "code",
   "execution_count": null,
   "metadata": {},
   "outputs": [],
   "source": [
    "import os\n",
    "import sys\n",
    "sys.version\n",
    "!pwd"
   ]
  },
  {
   "cell_type": "code",
   "execution_count": null,
   "metadata": {},
   "outputs": [],
   "source": [
    "df.head()"
   ]
  },
  {
   "cell_type": "code",
   "execution_count": null,
   "metadata": {},
   "outputs": [],
   "source": [
    "# for item in df[['links']].values.flatten().tolist():\n",
    "#     print(item)\n",
    "\n",
    "links=df[['links']].values.flatten().tolist()\n",
    "\n",
    "from urllib.parse import urlparse,urlsplit\n",
    "result=urlsplit(links[0]).path.split('/')[-1]    "
   ]
  },
  {
   "cell_type": "code",
   "execution_count": null,
   "metadata": {},
   "outputs": [],
   "source": [
    "result"
   ]
  },
  {
   "cell_type": "code",
   "execution_count": null,
   "metadata": {},
   "outputs": [],
   "source": [
    "!pip install pandas xmltodict"
   ]
  },
  {
   "cell_type": "code",
   "execution_count": null,
   "metadata": {},
   "outputs": [],
   "source": [
    "import pandas as pd\n",
    "df=pd.read_csv('links.csv')"
   ]
  },
  {
   "cell_type": "code",
   "execution_count": null,
   "metadata": {},
   "outputs": [],
   "source": [
    "import os\n",
    "from urllib.parse import urlparse,urlsplit\n",
    "from pathlib import Path\n",
    "for item in df[['links']].values.flatten().tolist():\n",
    "    result=urlsplit(item).path.split('/')[-1]   \n",
    "    path=Path('./content/')\n",
    "    urltopost=f'wget {item} -o {path.absolute()}/{result}' \n",
    "    print(urltopost)\n",
    "    os.system(urltopost)"
   ]
  },
  {
   "cell_type": "code",
   "execution_count": null,
   "metadata": {},
   "outputs": [],
   "source": [
    "import os\n",
    "for item in os.walk('./content'):\n",
    "    for file in item[2]:\n",
    "        path=Path(f'{item[0]}/{file}')\n",
    "        os.system(f'unzip {path.absolute()}')\n",
    "        print(f'File -->{path.absolute()}')"
   ]
  },
  {
   "cell_type": "code",
   "execution_count": null,
   "metadata": {},
   "outputs": [],
   "source": [
    "import json\n",
    "from pathlib import Path\n",
    "import xmltodict as xd\n",
    "files=[]\n",
    "for item in os.walk('./xml_data'):\n",
    "    for file in item[2]:\n",
    "        path=Path(f'{item[0]}/{file}`')\n",
    "        print(f'File --> {path.absolute()}')\n",
    "        with open(f'{path.absolute()}','rb') as f:\n",
    "            try:\n",
    "                d = xd.parse(f)\n",
    "                imdb=d[file.split(\".\")[0]]['DOC']\n",
    "                with open(f\"/workspace/Bioratna/code/json/{file}.json\", \"w\") as outfile:\n",
    "                    json.dump(imdb, outfile)                \n",
    "            except Exception as ex:\n",
    "                print(f'Error --> {ex}')\n",
    "                continue    "
   ]
  },
  {
   "cell_type": "code",
   "execution_count": null,
   "metadata": {},
   "outputs": [],
   "source": [
    "import xmltodict as xd\n",
    "with open('/workspace/Bioratna/code/xml_data/cis.xml.20090628','rb') as f:\n",
    "    d = xd.parse(f)"
   ]
  },
  {
   "cell_type": "code",
   "execution_count": null,
   "metadata": {},
   "outputs": [],
   "source": [
    "imdb=d['cis']['DOC']\n",
    "import json\n",
    "with open(\"emic.json\", \"w\") as outfile:\n",
    "\tjson.dump(imdb, outfile)"
   ]
  },
  {
   "cell_type": "code",
   "execution_count": null,
   "metadata": {},
   "outputs": [],
   "source": [
    "# !wget https://ftp.nlm.nih.gov/projects/toxspeclease/current/cis.xml.20090628.zip  -o /workspace/Bioratna/code/content/cis.xml.20090628.zip\n",
    "# !unzip cis.xml.20090628.zip\n",
    "# mv cis.xml.20090628 content/cis.xml.20090628.xml\n",
    "\n",
    "#-o content/cis.xml.20090628.zip && unzip content/cis.xml.20090628.zip\n",
    "# !ls -alr\n",
    "# !mv ./cis.xml.20090628 conent/cis.xml.20090628.zip"
   ]
  }
 ],
 "metadata": {
  "kernelspec": {
   "display_name": "Python 3",
   "language": "python",
   "name": "python3"
  },
  "language_info": {
   "codemirror_mode": {
    "name": "ipython",
    "version": 3
   },
   "file_extension": ".py",
   "mimetype": "text/x-python",
   "name": "python",
   "nbconvert_exporter": "python",
   "pygments_lexer": "ipython3",
   "version": "3.8.16"
  },
  "orig_nbformat": 4,
  "vscode": {
   "interpreter": {
    "hash": "9ac03a0a6051494cc606d484d27d20fce22fb7b4d169f583271e11d5ba46a56e"
   }
  }
 },
 "nbformat": 4,
 "nbformat_minor": 2
}
